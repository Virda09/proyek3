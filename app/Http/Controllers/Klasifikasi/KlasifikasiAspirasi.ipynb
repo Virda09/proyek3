{
 "cells": [
  {
   "cell_type": "code",
   "execution_count": 11,
   "id": "53a65eba-f3b7-41f7-bd3a-da211748efc2",
   "metadata": {},
   "outputs": [
    {
     "name": "stdout",
     "output_type": "stream",
     "text": [
      "Teks: tolong bersihkan saluran air baunya bikin ga nyaman\n",
      "Kategori: Lingkungan Hidup\n"
     ]
    }
   ],
   "source": [
    "import pandas as pd\n",
    "from sklearn.feature_extraction.text import CountVectorizer\n",
    "from sklearn.naive_bayes import MultinomialNB\n",
    "\n",
    "# Membaca file Excel\n",
    "data = pd.read_excel('aspirasi.xlsx')\n",
    "\n",
    "# Memisahkan teks dan label dari data\n",
    "X = data['teks']\n",
    "y = data['label']\n",
    "\n",
    "# Menginisialisasi dan melatih model Naive Bayes\n",
    "vectorizer = CountVectorizer()\n",
    "X = vectorizer.fit_transform(X)\n",
    "model = MultinomialNB()\n",
    "model.fit(X, y)\n",
    "\n",
    "# Mengklasifikasikan teks baru\n",
    "def predict_category(text):\n",
    "    text_vectorized = vectorizer.transform([text])\n",
    "    prediction = model.predict(text_vectorized)\n",
    "    return prediction[0]\n",
    "\n",
    "# Contoh penggunaan\n",
    "text_to_classify = \"tolong bersihkan saluran air baunya bikin ga nyaman\"\n",
    "predicted_category = predict_category(text_to_classify)\n",
    "print(\"Teks:\", text_to_classify)\n",
    "print(\"Kategori:\", predicted_category)\n"
   ]
  },
  {
   "cell_type": "code",
   "execution_count": null,
   "id": "0a07cd01-36dd-44ff-b9e5-f9979b52bea9",
   "metadata": {},
   "outputs": [],
   "source": []
  }
 ],
 "metadata": {
  "kernelspec": {
   "display_name": "Python 3 (ipykernel)",
   "language": "python",
   "name": "python3"
  },
  "language_info": {
   "codemirror_mode": {
    "name": "ipython",
    "version": 3
   },
   "file_extension": ".py",
   "mimetype": "text/x-python",
   "name": "python",
   "nbconvert_exporter": "python",
   "pygments_lexer": "ipython3",
   "version": "3.9.16"
  }
 },
 "nbformat": 4,
 "nbformat_minor": 5
}
