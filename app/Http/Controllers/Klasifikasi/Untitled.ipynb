{
 "cells": [
  {
   "cell_type": "code",
   "execution_count": 8,
   "id": "6f0f2a35-1470-4b5c-ad43-e459df299325",
   "metadata": {},
   "outputs": [
    {
     "name": "stdout",
     "output_type": "stream",
     "text": [
      "Teks: Jalan utama sudah kotor, tolong adakan kerja bakti\n",
      "Kategori: kebersihan\n",
      "\n",
      "Teks: Musholah kotor, harus dibersihkan\n",
      "Kategori: kebersihan\n",
      "\n",
      "Teks: tolong sediakan cctv karena rumah saya kemalingan\n",
      "Kategori: keamanan\n",
      "\n",
      "Teks: tolong bangun pos ronda\n",
      "Kategori: pembangunan\n",
      "\n",
      "Teks: bangun rumah sakit\n",
      "Kategori: pembangunan\n",
      "\n"
     ]
    }
   ],
   "source": [
    "import numpy as np\n",
    "from sklearn.feature_extraction.text import CountVectorizer\n",
    "from sklearn.naive_bayes import MultinomialNB\n",
    "\n",
    "# Contoh data teks dan kategori\n",
    "texts = [\n",
    "    \"Tolong adakan siskampling untuk meningkatkan keamanan perumahan\",\n",
    "    \"Adakan kerja bakti untuk membersihkan musholah\",\n",
    "    \"Buat jam malam untuk menertibkan warga perumahan\",\n",
    "    \"Tolong bangun musholah untuk kegiatan beribadah\",\n",
    "    \"tolong adakan musyawarah untuk pemilihan ketua rt\",\n",
    "    \"tolong sediakan \n",
    "]\n",
    "categories = ['keamanan', 'kebersihan', 'keamanan', 'pembangunan','musyawarah']\n",
    "\n",
    "# Menginisialisasi vektor fitur dengan CountVectorizer\n",
    "vectorizer = CountVectorizer()\n",
    "\n",
    "# Mengubah teks menjadi vektor fitur\n",
    "features = vectorizer.fit_transform(texts)\n",
    "\n",
    "# Menginisialisasi model Naive Bayes\n",
    "nb_model = MultinomialNB()\n",
    "\n",
    "# Melatih model dengan data fitur dan kategori\n",
    "nb_model.fit(features, categories)\n",
    "\n",
    "# Contoh teks baru yang akan dikategorikan\n",
    "new_texts = [\n",
    "    \"Jalan utama sudah kotor, tolong adakan kerja bakti\",\n",
    "    \"Musholah kotor, harus dibersihkan\",\n",
    "    \"tolong sediakan cctv karena rumah saya kemalingan\",\n",
    "    \"tolong bangun pos ronda\",\n",
    "    \"bangun rumah sakit\"\n",
    "]\n",
    "\n",
    "# Mengubah teks baru menjadi vektor fitur menggunakan vectorizer yang sama\n",
    "new_features = vectorizer.transform(new_texts)\n",
    "\n",
    "# Mengklasifikasikan teks baru menggunakan model Naive Bayes yang sudah dilatih\n",
    "predictions = nb_model.predict(new_features)\n",
    "\n",
    "# Menampilkan hasil klasifikasi\n",
    "for text, category in zip(new_texts, predictions):\n",
    "    print(f\"Teks: {text}\")\n",
    "    print(f\"Kategori: {category}\")\n",
    "    print()\n"
   ]
  },
  {
   "cell_type": "code",
   "execution_count": null,
   "id": "b0c57520-08b3-40ab-a105-2d1dc483b507",
   "metadata": {},
   "outputs": [],
   "source": []
  }
 ],
 "metadata": {
  "kernelspec": {
   "display_name": "Python 3 (ipykernel)",
   "language": "python",
   "name": "python3"
  },
  "language_info": {
   "codemirror_mode": {
    "name": "ipython",
    "version": 3
   },
   "file_extension": ".py",
   "mimetype": "text/x-python",
   "name": "python",
   "nbconvert_exporter": "python",
   "pygments_lexer": "ipython3",
   "version": "3.9.16"
  }
 },
 "nbformat": 4,
 "nbformat_minor": 5
}
