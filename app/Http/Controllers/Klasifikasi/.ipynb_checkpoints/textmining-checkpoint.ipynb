{
 "cells": [
  {
   "cell_type": "code",
   "execution_count": 7,
   "id": "53aa5496-a058-46c0-936a-5ed4a706ed4f",
   "metadata": {},
   "outputs": [
    {
     "name": "stdout",
     "output_type": "stream",
     "text": [
      "Akurasi: 30.00%\n"
     ]
    }
   ],
   "source": [
    "import pandas as pd\n",
    "from sklearn.feature_extraction.text import CountVectorizer\n",
    "from sklearn.naive_bayes import MultinomialNB\n",
    "from sklearn.model_selection import train_test_split\n",
    "from sklearn.metrics import accuracy_score\n",
    "\n",
    "# Baca file Excel\n",
    "data = pd.read_excel('aspirasi.xlsx')\n",
    "\n",
    "# Pisahkan teks dan label\n",
    "texts = data['teks'].astype(str)\n",
    "labels = data['label']\n",
    "\n",
    "# Bagi dataset menjadi data latih dan data uji\n",
    "texts_train, texts_test, labels_train, labels_test = train_test_split(texts, labels, test_size=0.2, random_state=50)\n",
    "\n",
    "# Ekstraksi fitur dengan CountVectorizer\n",
    "vectorizer = CountVectorizer()\n",
    "features_train = vectorizer.fit_transform(texts_train)\n",
    "features_test = vectorizer.transform(texts_test)\n",
    "\n",
    "# Latih model Naive Bayes\n",
    "model = MultinomialNB()\n",
    "model.fit(features_train, labels_train)\n",
    "\n",
    "# Prediksi label untuk data uji\n",
    "predictions = model.predict(features_test)\n",
    "\n",
    "# Evaluasi akurasi\n",
    "accuracy = accuracy_score(labels_test, predictions)\n",
    "print('Akurasi: {:.2f}%'.format(accuracy * 100))"
   ]
  },
  {
   "cell_type": "code",
   "execution_count": null,
   "id": "87326007-058a-4294-a452-9e463417ff82",
   "metadata": {},
   "outputs": [],
   "source": []
  }
 ],
 "metadata": {
  "kernelspec": {
   "display_name": "Python 3 (ipykernel)",
   "language": "python",
   "name": "python3"
  },
  "language_info": {
   "codemirror_mode": {
    "name": "ipython",
    "version": 3
   },
   "file_extension": ".py",
   "mimetype": "text/x-python",
   "name": "python",
   "nbconvert_exporter": "python",
   "pygments_lexer": "ipython3",
   "version": "3.9.16"
  }
 },
 "nbformat": 4,
 "nbformat_minor": 5
}
